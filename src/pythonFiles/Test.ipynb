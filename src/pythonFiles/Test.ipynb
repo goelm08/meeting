{
 "cells": [
  {
   "cell_type": "code",
   "execution_count": 65,
   "outputs": [],
   "source": [
    "file = r\"C:\\Users\\goelm\\Videos\\Zedd Alessia Cara Stay.mp4\";"
   ],
   "metadata": {
    "collapsed": false,
    "pycharm": {
     "name": "#%%\n"
    }
   }
  },
  {
   "cell_type": "code",
   "execution_count": 5,
   "outputs": [],
   "source": [
    "import cv2\n",
    "from moviepy.editor import *\n",
    "import os\n",
    "import speech_recognition as sr\n",
    "import ffmpeg\n",
    "# file = r'C:\\Users\\goelm\\Desktop\\E-meeting\\test.mp4'"
   ],
   "metadata": {
    "collapsed": false,
    "pycharm": {
     "name": "#%%\n"
    }
   }
  },
  {
   "cell_type": "code",
   "execution_count": 66,
   "outputs": [
    {
     "data": {
      "text/plain": "'C:\\\\Users\\\\goelm\\\\Videos\\\\Zedd Alessia Cara Stay.mp4'"
     },
     "execution_count": 66,
     "metadata": {},
     "output_type": "execute_result"
    }
   ],
   "source": [],
   "metadata": {
    "collapsed": false,
    "pycharm": {
     "name": "#%%\n"
    }
   }
  },
  {
   "cell_type": "code",
   "execution_count": 21,
   "outputs": [
    {
     "name": "stdout",
     "output_type": "stream",
     "text": [
      "Stopping video writer\n"
     ]
    }
   ],
   "source": [],
   "metadata": {
    "collapsed": false,
    "pycharm": {
     "name": "#%%\n"
    }
   }
  },
  {
   "cell_type": "code",
   "execution_count": 7,
   "outputs": [
    {
     "name": "stdout",
     "output_type": "stream",
     "text": [
      "MoviePy - Writing audio in audio.mp3\n"
     ]
    },
    {
     "name": "stderr",
     "output_type": "stream",
     "text": [
      "                                                                      "
     ]
    },
    {
     "name": "stdout",
     "output_type": "stream",
     "text": [
      "MoviePy - Done.\n"
     ]
    },
    {
     "name": "stderr",
     "output_type": "stream",
     "text": [
      "\r"
     ]
    }
   ],
   "source": [
    "video = VideoFileClip(file)\n",
    "\n",
    "video.audio.write_audiofile(\"audio.mp3\")\n"
   ],
   "metadata": {
    "collapsed": false,
    "pycharm": {
     "name": "#%%\n"
    }
   }
  },
  {
   "cell_type": "code",
   "execution_count": 1,
   "outputs": [
    {
     "ename": "SyntaxError",
     "evalue": "Missing parentheses in call to 'print'. Did you mean print(...)? (1091427552.py, line 156)",
     "output_type": "error",
     "traceback": [
      "\u001B[1;36m  Input \u001B[1;32mIn [1]\u001B[1;36m\u001B[0m\n\u001B[1;33m    print \"Built TF-IDF array\"\u001B[0m\n\u001B[1;37m    ^\u001B[0m\n\u001B[1;31mSyntaxError\u001B[0m\u001B[1;31m:\u001B[0m Missing parentheses in call to 'print'. Did you mean print(...)?\n"
     ]
    }
   ],
   "source": [],
   "metadata": {
    "collapsed": false,
    "pycharm": {
     "name": "#%%\n"
    }
   }
  },
  {
   "cell_type": "code",
   "execution_count": 27,
   "outputs": [
    {
     "name": "stdout",
     "output_type": "stream",
     "text": [
      "bahut hi ghatiya ghatiya news Odia news news\n"
     ]
    }
   ],
   "source": [
    "#ffmpeg.exe -i .\\Recording.m4a .\\Recording.flac\n",
    "\n",
    "import speech_recognition as sr\n",
    "r = sr.Recognizer()\n",
    "with sr.AudioFile(r\"C:\\Users\\goelm\\Documents\\Sound Recordings\\Recording2.flac\") as source:\n",
    "    # listen for the data (load audio to memory)\n",
    "    audio_data = r.record(source)\n",
    "    # recognize (convert from speech to text)\n",
    "    text = r.recognize_google(audio_data)\n",
    "    print(text)\n",
    "\n"
   ],
   "metadata": {
    "collapsed": false,
    "pycharm": {
     "name": "#%%\n"
    }
   }
  },
  {
   "cell_type": "code",
   "execution_count": 29,
   "outputs": [],
   "source": [
    "with open('offensive.txt') as file:\n",
    "    profanity_words = file.read()"
   ],
   "metadata": {
    "collapsed": false,
    "pycharm": {
     "name": "#%%\n"
    }
   }
  },
  {
   "cell_type": "code",
   "execution_count": 39,
   "outputs": [],
   "source": [
    "profanity_words = profanity_words.split('\\n')"
   ],
   "metadata": {
    "collapsed": false,
    "pycharm": {
     "name": "#%%\n"
    }
   }
  },
  {
   "cell_type": "code",
   "execution_count": 93,
   "outputs": [
    {
     "name": "stdout",
     "output_type": "stream",
     "text": [
      "somepic.jpg size: (299, 299)\n"
     ]
    },
    {
     "data": {
      "text/plain": "{'somepic.jpg': {'drawings': 0.0010254187509417534,\n  'hentai': 0.0049538700841367245,\n  'neutral': 0.2915945053100586,\n  'porn': 0.6934183239936829,\n  'sexy': 0.009007889777421951}}"
     },
     "execution_count": 93,
     "metadata": {},
     "output_type": "execute_result"
    }
   ],
   "source": [
    "from nsfw_detector import predict\n",
    "model = predict.load_model('nsfw.299x299.h5')\n",
    "\n",
    "# Predict single image\n",
    "predict.classify(model, r\"somepic.jpg\", 299)\n",
    "# {'2.jpg': {'sexy': 4.3454722e-05, 'neutral': 0.00026579265, 'porn': 0.0007733492, 'hentai': 0.14751932, 'drawings': 0.85139805}}\n",
    "\n",
    "# Predict multiple images at once\n",
    "# predict.classify(model, ['/Users/bedapudi/Desktop/2.jpg', '/Users/bedapudi/Desktop/6.jpg'])\n",
    "# {'2.jpg': {'sexy': 4.3454795e-05, 'neutral': 0.00026579312, 'porn': 0.0007733498, 'hentai': 0.14751942, 'drawings': 0.8513979}, '6.jpg': {'drawings': 0.004214506, 'hentai': 0.013342537, 'neutral': 0.01834045, 'porn': 0.4431829, 'sexy': 0.5209196}}\n",
    "\n",
    "# Predict for all images in a directory\n",
    "# predict.classify(model, '/Users/bedapudi/Desktop/')\n",
    "# model"
   ],
   "metadata": {
    "collapsed": false,
    "pycharm": {
     "name": "#%%\n"
    }
   }
  },
  {
   "cell_type": "code",
   "execution_count": 58,
   "outputs": [],
   "source": [
    "import cv2\n",
    "import numpy as np\n",
    "img = cv2.imread('somepic.jpg')\n",
    "img = cv2.resize(img,(299,299))     # resize image to match model's expected sizing\n",
    "img = np.reshape(img,[1,299,299,3]) #"
   ],
   "metadata": {
    "collapsed": false,
    "pycharm": {
     "name": "#%%\n"
    }
   }
  },
  {
   "cell_type": "code",
   "execution_count": 69,
   "outputs": [
    {
     "name": "stdout",
     "output_type": "stream",
     "text": [
      "somepic.jpg size: (299, 299)\n"
     ]
    }
   ],
   "source": [
    "aaa = predict.classify(model,'somepic.jpg', 299)"
   ],
   "metadata": {
    "collapsed": false,
    "pycharm": {
     "name": "#%%\n"
    }
   }
  },
  {
   "cell_type": "code",
   "execution_count": 85,
   "outputs": [],
   "source": [
    "fileName = 'somepic.jpg'\n",
    "aaa[fileName]\n",
    "\n",
    "def check_neut(result, fileName):\n",
    "    if(result[fileName]['hentai']>0.3 or result[fileName]['porn']>0.4 or result[fileName]['sexy']>0.2):\n",
    "        return True\n",
    "    else:\n",
    "        return False"
   ],
   "metadata": {
    "collapsed": false,
    "pycharm": {
     "name": "#%%\n"
    }
   }
  },
  {
   "cell_type": "code",
   "execution_count": 90,
   "outputs": [
    {
     "data": {
      "text/plain": "True"
     },
     "execution_count": 90,
     "metadata": {},
     "output_type": "execute_result"
    }
   ],
   "source": [
    "Profanity"
   ],
   "metadata": {
    "collapsed": false,
    "pycharm": {
     "name": "#%%\n"
    }
   }
  },
  {
   "cell_type": "code",
   "execution_count": 95,
   "outputs": [
    {
     "name": "stdout",
     "output_type": "stream",
     "text": [
      "frame.jpg size: (299, 299)\n",
      "frame.jpg size: (299, 299)\n",
      "frame.jpg size: (299, 299)\n",
      "frame.jpg size: (299, 299)\n",
      "frame.jpg size: (299, 299)\n",
      "frame.jpg size: (299, 299)\n",
      "frame.jpg size: (299, 299)\n",
      "frame.jpg size: (299, 299)\n",
      "frame.jpg size: (299, 299)\n",
      "frame.jpg size: (299, 299)\n",
      "frame.jpg size: (299, 299)\n",
      "True\n"
     ]
    }
   ],
   "source": [
    "vidcap = cv2.VideoCapture(r\"C:\\Users\\goelm\\Downloads\\closer.mp4\")\n",
    "success,image = vidcap.read()\n",
    "count = 0\n",
    "Profanity = False\n",
    "while success:\n",
    "    count = (count+1)%300000\n",
    "    if(count != 0):\n",
    "        continue\n",
    "    cv2. imwrite(\"frame.jpg\", image) # save frame as JPEG file.\n",
    "    fileName = 'frame.jpg'\n",
    "    if(check_neut(predict.classify(model, fileName, 299), fileName)):\n",
    "        print('True')\n",
    "        Profanity = True\n",
    "        break\n",
    "    success,image = vidcap. read()"
   ],
   "metadata": {
    "collapsed": false,
    "pycharm": {
     "name": "#%%\n"
    }
   }
  },
  {
   "cell_type": "code",
   "execution_count": 97,
   "outputs": [
    {
     "data": {
      "text/plain": "6277"
     },
     "execution_count": 97,
     "metadata": {},
     "output_type": "execute_result"
    }
   ],
   "source": [
    "\n",
    "int(vidcap.get(cv2.CAP_PROP_FRAME_COUNT))"
   ],
   "metadata": {
    "collapsed": false,
    "pycharm": {
     "name": "#%%\n"
    }
   }
  },
  {
   "cell_type": "code",
   "execution_count": 1,
   "outputs": [
    {
     "name": "stdout",
     "output_type": "stream",
     "text": [
      "\n"
     ]
    }
   ],
   "source": [
    "with open('offensive.txt') as file:\n",
    "    profanity_words = file.read()\n",
    "\n",
    "profanity_words = profanity_words.split('\\n')\n",
    "print(profanity_words[-1])"
   ],
   "metadata": {
    "collapsed": false,
    "pycharm": {
     "name": "#%%\n"
    }
   }
  },
  {
   "cell_type": "code",
   "execution_count": 10,
   "outputs": [
    {
     "data": {
      "text/plain": "['bahut', 'hi', 'ghatiya', 'ghatiya', 'news', 'Odia', 'news', 'news']"
     },
     "execution_count": 10,
     "metadata": {},
     "output_type": "execute_result"
    }
   ],
   "source": [
    "profanity_words[-2] in text\n",
    "text.split(' ')"
   ],
   "metadata": {
    "collapsed": false,
    "pycharm": {
     "name": "#%%\n"
    }
   }
  },
  {
   "cell_type": "code",
   "execution_count": 9,
   "outputs": [
    {
     "name": "stdout",
     "output_type": "stream",
     "text": [
      "bahut hi ghatiya ghatiya news Odia news news\n",
      "ghatiya\n",
      "true\n"
     ]
    }
   ],
   "source": [
    "#ffmpeg.exe -i .\\Recording.m4a .\\Recording.flac\n",
    "\n",
    "import speech_recognition as sr\n",
    "r = sr.Recognizer()\n",
    "with sr.AudioFile(r\"C:\\Users\\goelm\\Documents\\Sound Recordings\\Recording2.flac\") as source:\n",
    "    # listen for the data (load audio to memory)\n",
    "    audio_data = r.record(source)\n",
    "    # recognize (convert from speech to text)\n",
    "    text = r.recognize_google(audio_data)\n",
    "    print(text)\n",
    "# text = \"This is an offensive umbrella\"\n",
    "profanity = False\n",
    "for word in text.split(' '):\n",
    "    if word.lower() in profanity_words or '*' in word:\n",
    "        print (word)\n",
    "        profanity = True\n",
    "        break\n",
    "\n",
    "if(profanity):\n",
    "    print('true')\n",
    "else:\n",
    "    print('false')"
   ],
   "metadata": {
    "collapsed": false,
    "pycharm": {
     "name": "#%%\n"
    }
   }
  },
  {
   "cell_type": "code",
   "execution_count": 50,
   "outputs": [],
   "source": [
    "file = r'C:\\Users\\goelm\\Desktop\\E-meeting\\src\\test.webm'"
   ],
   "metadata": {
    "collapsed": false,
    "pycharm": {
     "name": "#%%\n"
    }
   }
  },
  {
   "cell_type": "code",
   "execution_count": 63,
   "outputs": [],
   "source": [
    "from nsfw_detector import predict\n",
    "import cv2, os\n",
    "model = predict.load_model('nsfw.299x299.h5')\n",
    "\n",
    "vidcap = cv2.VideoCapture(file)\n",
    "success,image = vidcap.read()\n",
    "count = 0\n",
    "Profanity = False\n",
    "\n",
    "def check_neut(result, fileName):\n",
    "    if(result[fileName]['hentai']>0.3 or result[fileName]['porn']>0.4 or result[fileName]['sexy']>0.2):\n",
    "        return True\n",
    "    else:\n",
    "        return False\n",
    "fileNameJpeg = 'frame' + '.jpg'\n",
    "while success:\n",
    "    success,image = vidcap. read()\n",
    "    count = (count+1)%30\n",
    "    if(count != 0):\n",
    "        continue\n",
    "    cv2. imwrite(fileNameJpeg, image) # save frame as JPEG file.\n",
    "    if(check_neut(predict.classify(model, fileNameJpeg, 299), fileNameJpeg)):\n",
    "        print('True')\n",
    "        Profanity = True\n",
    "        break\n",
    "if profanity == False:\n",
    "    os.remove(fileNameJpeg)"
   ],
   "metadata": {
    "collapsed": false,
    "pycharm": {
     "name": "#%%\n"
    }
   }
  },
  {
   "cell_type": "code",
   "execution_count": 62,
   "outputs": [
    {
     "ename": "FileNotFoundError",
     "evalue": "[WinError 2] The system cannot find the file specified: 'frame.jpg'",
     "output_type": "error",
     "traceback": [
      "\u001B[1;31m---------------------------------------------------------------------------\u001B[0m",
      "\u001B[1;31mFileNotFoundError\u001B[0m                         Traceback (most recent call last)",
      "Input \u001B[1;32mIn [62]\u001B[0m, in \u001B[0;36m<cell line: 1>\u001B[1;34m()\u001B[0m\n\u001B[1;32m----> 1\u001B[0m \u001B[43mos\u001B[49m\u001B[38;5;241;43m.\u001B[39;49m\u001B[43mremove\u001B[49m\u001B[43m(\u001B[49m\u001B[43mfileNameJpeg\u001B[49m\u001B[43m)\u001B[49m\n",
      "\u001B[1;31mFileNotFoundError\u001B[0m: [WinError 2] The system cannot find the file specified: 'frame.jpg'"
     ]
    }
   ],
   "source": [
    "os.remove(fileNameJpeg)"
   ],
   "metadata": {
    "collapsed": false,
    "pycharm": {
     "name": "#%%\n"
    }
   }
  },
  {
   "cell_type": "code",
   "execution_count": 42,
   "outputs": [
    {
     "name": "stdout",
     "output_type": "stream",
     "text": [
      "setting up a breakpoint within us while that is being\n",
      "false\n"
     ]
    }
   ],
   "source": [
    "import speech_recognition as sr\n",
    "import moviepy.editor as mp\n",
    "\n",
    "clip = mp.VideoFileClip(file)\n",
    "\n",
    "fileName = r'converted.flac'\n",
    "\n",
    "clip.audio.write_audiofile(fileName, codec='flac')\n",
    "r = sr.Recognizer()\n",
    "with sr.AudioFile(fileName) as source:\n",
    "    # listen for the data (load audio to memory)\n",
    "    audio_data = r.record(source)\n",
    "    # recognize (convert from speech to text)\n",
    "    text = r.recognize_google(audio_data)\n",
    "    print(text)\n",
    "\n",
    "with open('offensive.txt') as file:\n",
    "    profanity_words = file.read()\n",
    "\n",
    "profanity_words = profanity_words.split('\\n')\n",
    "profanity = False\n",
    "for word in text.split(' '):\n",
    "    if word.lower() in profanity_words or '*' in word:\n",
    "        print (word)\n",
    "        profanity = True\n",
    "        break\n",
    "\n",
    "if(profanity):\n",
    "    print('true')\n",
    "else:\n",
    "    print('false')"
   ],
   "metadata": {
    "collapsed": false,
    "pycharm": {
     "name": "#%%\n"
    }
   }
  },
  {
   "cell_type": "code",
   "execution_count": 64,
   "outputs": [
    {
     "name": "stdout",
     "output_type": "stream",
     "text": [
      " * Serving Flask app 'main'\n",
      " * Debug mode: off\n"
     ]
    },
    {
     "name": "stderr",
     "output_type": "stream",
     "text": [
      "WARNING: This is a development server. Do not use it in a production deployment. Use a production WSGI server instead.\n",
      " * Running on http://127.0.0.1:5000\n",
      "Press CTRL+C to quit\n"
     ]
    }
   ],
   "source": [
    "from flask import Flask, request\n",
    "import json\n",
    "\n",
    "# Setup flask server\n",
    "app = Flask(\"main\")\n",
    "@app.route('/arraysum', methods = ['POST'])\n",
    "\n",
    "def sum_of_array():\n",
    "    data = request.get_json()\n",
    "    print(data)\n",
    "    return json.dumps({\"result\":data})\n",
    "\n",
    "app.run(port=5000)"
   ],
   "metadata": {
    "collapsed": false,
    "pycharm": {
     "name": "#%%\n"
    }
   }
  }
 ],
 "metadata": {
  "kernelspec": {
   "display_name": "Python 3",
   "language": "python",
   "name": "python3"
  },
  "language_info": {
   "codemirror_mode": {
    "name": "ipython",
    "version": 2
   },
   "file_extension": ".py",
   "mimetype": "text/x-python",
   "name": "python",
   "nbconvert_exporter": "python",
   "pygments_lexer": "ipython2",
   "version": "2.7.6"
  }
 },
 "nbformat": 4,
 "nbformat_minor": 0
}