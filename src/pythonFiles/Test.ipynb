{
 "cells": [
  {
   "cell_type": "code",
   "execution_count": 65,
   "outputs": [],
   "source": [
    "file = r\"C:\\Users\\goelm\\Videos\\Zedd Alessia Cara Stay.mp4\";"
   ],
   "metadata": {
    "collapsed": false,
    "pycharm": {
     "name": "#%%\n"
    }
   }
  },
  {
   "cell_type": "code",
   "execution_count": 5,
   "outputs": [],
   "source": [
    "import cv2\n",
    "from moviepy.editor import *\n",
    "import os\n",
    "import speech_recognition as sr\n",
    "import ffmpeg\n",
    "# file = r'C:\\Users\\goelm\\Desktop\\E-meeting\\test.mp4'"
   ],
   "metadata": {
    "collapsed": false,
    "pycharm": {
     "name": "#%%\n"
    }
   }
  },
  {
   "cell_type": "code",
   "execution_count": 66,
   "outputs": [
    {
     "data": {
      "text/plain": "'C:\\\\Users\\\\goelm\\\\Videos\\\\Zedd Alessia Cara Stay.mp4'"
     },
     "execution_count": 66,
     "metadata": {},
     "output_type": "execute_result"
    }
   ],
   "source": [],
   "metadata": {
    "collapsed": false,
    "pycharm": {
     "name": "#%%\n"
    }
   }
  },
  {
   "cell_type": "code",
   "execution_count": 21,
   "outputs": [
    {
     "name": "stdout",
     "output_type": "stream",
     "text": [
      "Stopping video writer\n"
     ]
    }
   ],
   "source": [],
   "metadata": {
    "collapsed": false,
    "pycharm": {
     "name": "#%%\n"
    }
   }
  },
  {
   "cell_type": "code",
   "execution_count": 7,
   "outputs": [
    {
     "name": "stdout",
     "output_type": "stream",
     "text": [
      "MoviePy - Writing audio in audio.mp3\n"
     ]
    },
    {
     "name": "stderr",
     "output_type": "stream",
     "text": [
      "                                                                      "
     ]
    },
    {
     "name": "stdout",
     "output_type": "stream",
     "text": [
      "MoviePy - Done.\n"
     ]
    },
    {
     "name": "stderr",
     "output_type": "stream",
     "text": [
      "\r"
     ]
    }
   ],
   "source": [
    "video = VideoFileClip(file)\n",
    "\n",
    "video.audio.write_audiofile(\"audio.mp3\")\n"
   ],
   "metadata": {
    "collapsed": false,
    "pycharm": {
     "name": "#%%\n"
    }
   }
  },
  {
   "cell_type": "code",
   "execution_count": 1,
   "outputs": [
    {
     "ename": "SyntaxError",
     "evalue": "Missing parentheses in call to 'print'. Did you mean print(...)? (1091427552.py, line 156)",
     "output_type": "error",
     "traceback": [
      "\u001B[1;36m  Input \u001B[1;32mIn [1]\u001B[1;36m\u001B[0m\n\u001B[1;33m    print \"Built TF-IDF array\"\u001B[0m\n\u001B[1;37m    ^\u001B[0m\n\u001B[1;31mSyntaxError\u001B[0m\u001B[1;31m:\u001B[0m Missing parentheses in call to 'print'. Did you mean print(...)?\n"
     ]
    }
   ],
   "source": [],
   "metadata": {
    "collapsed": false,
    "pycharm": {
     "name": "#%%\n"
    }
   }
  },
  {
   "cell_type": "code",
   "execution_count": 27,
   "outputs": [
    {
     "name": "stdout",
     "output_type": "stream",
     "text": [
      "bahut hi ghatiya ghatiya news Odia news news\n"
     ]
    }
   ],
   "source": [
    "#ffmpeg.exe -i .\\Recording.m4a .\\Recording.flac\n",
    "\n",
    "import speech_recognition as sr\n",
    "r = sr.Recognizer()\n",
    "with sr.AudioFile(r\"C:\\Users\\goelm\\Documents\\Sound Recordings\\Recording2.flac\") as source:\n",
    "    # listen for the data (load audio to memory)\n",
    "    audio_data = r.record(source)\n",
    "    # recognize (convert from speech to text)\n",
    "    text = r.recognize_google(audio_data)\n",
    "    print(text)\n",
    "\n"
   ],
   "metadata": {
    "collapsed": false,
    "pycharm": {
     "name": "#%%\n"
    }
   }
  },
  {
   "cell_type": "code",
   "execution_count": 29,
   "outputs": [],
   "source": [
    "with open('offensive.txt') as file:\n",
    "    profanity_words = file.read()"
   ],
   "metadata": {
    "collapsed": false,
    "pycharm": {
     "name": "#%%\n"
    }
   }
  },
  {
   "cell_type": "code",
   "execution_count": 39,
   "outputs": [],
   "source": [
    "profanity_words = profanity_words.split('\\n')"
   ],
   "metadata": {
    "collapsed": false,
    "pycharm": {
     "name": "#%%\n"
    }
   }
  },
  {
   "cell_type": "code",
   "execution_count": 93,
   "outputs": [
    {
     "name": "stdout",
     "output_type": "stream",
     "text": [
      "somepic.jpg size: (299, 299)\n"
     ]
    },
    {
     "data": {
      "text/plain": "{'somepic.jpg': {'drawings': 0.0010254187509417534,\n  'hentai': 0.0049538700841367245,\n  'neutral': 0.2915945053100586,\n  'porn': 0.6934183239936829,\n  'sexy': 0.009007889777421951}}"
     },
     "execution_count": 93,
     "metadata": {},
     "output_type": "execute_result"
    }
   ],
   "source": [
    "from nsfw_detector import predict\n",
    "model = predict.load_model('nsfw.299x299.h5')\n",
    "\n",
    "# Predict single image\n",
    "predict.classify(model, r\"somepic.jpg\", 299)\n",
    "# {'2.jpg': {'sexy': 4.3454722e-05, 'neutral': 0.00026579265, 'porn': 0.0007733492, 'hentai': 0.14751932, 'drawings': 0.85139805}}\n",
    "\n",
    "# Predict multiple images at once\n",
    "# predict.classify(model, ['/Users/bedapudi/Desktop/2.jpg', '/Users/bedapudi/Desktop/6.jpg'])\n",
    "# {'2.jpg': {'sexy': 4.3454795e-05, 'neutral': 0.00026579312, 'porn': 0.0007733498, 'hentai': 0.14751942, 'drawings': 0.8513979}, '6.jpg': {'drawings': 0.004214506, 'hentai': 0.013342537, 'neutral': 0.01834045, 'porn': 0.4431829, 'sexy': 0.5209196}}\n",
    "\n",
    "# Predict for all images in a directory\n",
    "# predict.classify(model, '/Users/bedapudi/Desktop/')\n",
    "# model"
   ],
   "metadata": {
    "collapsed": false,
    "pycharm": {
     "name": "#%%\n"
    }
   }
  },
  {
   "cell_type": "code",
   "execution_count": 58,
   "outputs": [],
   "source": [
    "import cv2\n",
    "import numpy as np\n",
    "img = cv2.imread('somepic.jpg')\n",
    "img = cv2.resize(img,(299,299))     # resize image to match model's expected sizing\n",
    "img = np.reshape(img,[1,299,299,3]) #"
   ],
   "metadata": {
    "collapsed": false,
    "pycharm": {
     "name": "#%%\n"
    }
   }
  },
  {
   "cell_type": "code",
   "execution_count": 69,
   "outputs": [
    {
     "name": "stdout",
     "output_type": "stream",
     "text": [
      "somepic.jpg size: (299, 299)\n"
     ]
    }
   ],
   "source": [
    "aaa = predict.classify(model,'somepic.jpg', 299)"
   ],
   "metadata": {
    "collapsed": false,
    "pycharm": {
     "name": "#%%\n"
    }
   }
  },
  {
   "cell_type": "code",
   "execution_count": 85,
   "outputs": [],
   "source": [
    "fileName = 'somepic.jpg'\n",
    "aaa[fileName]\n",
    "\n",
    "def check_neut(result, fileName):\n",
    "    if(result[fileName]['hentai']>0.3 or result[fileName]['porn']>0.4 or result[fileName]['sexy']>0.2):\n",
    "        return True\n",
    "    else:\n",
    "        return False"
   ],
   "metadata": {
    "collapsed": false,
    "pycharm": {
     "name": "#%%\n"
    }
   }
  },
  {
   "cell_type": "code",
   "execution_count": 90,
   "outputs": [
    {
     "data": {
      "text/plain": "True"
     },
     "execution_count": 90,
     "metadata": {},
     "output_type": "execute_result"
    }
   ],
   "source": [
    "Profanity"
   ],
   "metadata": {
    "collapsed": false,
    "pycharm": {
     "name": "#%%\n"
    }
   }
  },
  {
   "cell_type": "code",
   "execution_count": 95,
   "outputs": [
    {
     "name": "stdout",
     "output_type": "stream",
     "text": [
      "frame.jpg size: (299, 299)\n",
      "frame.jpg size: (299, 299)\n",
      "frame.jpg size: (299, 299)\n",
      "frame.jpg size: (299, 299)\n",
      "frame.jpg size: (299, 299)\n",
      "frame.jpg size: (299, 299)\n",
      "frame.jpg size: (299, 299)\n",
      "frame.jpg size: (299, 299)\n",
      "frame.jpg size: (299, 299)\n",
      "frame.jpg size: (299, 299)\n",
      "frame.jpg size: (299, 299)\n",
      "True\n"
     ]
    }
   ],
   "source": [
    "vidcap = cv2.VideoCapture(r\"C:\\Users\\goelm\\Downloads\\closer.mp4\")\n",
    "success,image = vidcap.read()\n",
    "count = 0\n",
    "Profanity = False\n",
    "while success:\n",
    "    count = (count+1)%300000\n",
    "    if(count != 0):\n",
    "        continue\n",
    "    cv2. imwrite(\"frame.jpg\", image) # save frame as JPEG file.\n",
    "    fileName = 'frame.jpg'\n",
    "    if(check_neut(predict.classify(model, fileName, 299), fileName)):\n",
    "        print('True')\n",
    "        Profanity = True\n",
    "        break\n",
    "    success,image = vidcap. read()"
   ],
   "metadata": {
    "collapsed": false,
    "pycharm": {
     "name": "#%%\n"
    }
   }
  },
  {
   "cell_type": "code",
   "execution_count": 97,
   "outputs": [
    {
     "data": {
      "text/plain": "6277"
     },
     "execution_count": 97,
     "metadata": {},
     "output_type": "execute_result"
    }
   ],
   "source": [
    "\n",
    "int(vidcap.get(cv2.CAP_PROP_FRAME_COUNT))"
   ],
   "metadata": {
    "collapsed": false,
    "pycharm": {
     "name": "#%%\n"
    }
   }
  },
  {
   "cell_type": "code",
   "execution_count": 1,
   "outputs": [
    {
     "name": "stdout",
     "output_type": "stream",
     "text": [
      "\n"
     ]
    }
   ],
   "source": [
    "with open('offensive.txt') as file:\n",
    "    profanity_words = file.read()\n",
    "\n",
    "profanity_words = profanity_words.split('\\n')\n",
    "print(profanity_words[-1])"
   ],
   "metadata": {
    "collapsed": false,
    "pycharm": {
     "name": "#%%\n"
    }
   }
  },
  {
   "cell_type": "code",
   "execution_count": 10,
   "outputs": [
    {
     "data": {
      "text/plain": "['bahut', 'hi', 'ghatiya', 'ghatiya', 'news', 'Odia', 'news', 'news']"
     },
     "execution_count": 10,
     "metadata": {},
     "output_type": "execute_result"
    }
   ],
   "source": [
    "profanity_words[-2] in text\n",
    "text.split(' ')"
   ],
   "metadata": {
    "collapsed": false,
    "pycharm": {
     "name": "#%%\n"
    }
   }
  },
  {
   "cell_type": "code",
   "execution_count": 9,
   "outputs": [
    {
     "name": "stdout",
     "output_type": "stream",
     "text": [
      "bahut hi ghatiya ghatiya news Odia news news\n",
      "ghatiya\n",
      "true\n"
     ]
    }
   ],
   "source": [
    "#ffmpeg.exe -i .\\Recording.m4a .\\Recording.flac\n",
    "\n",
    "import speech_recognition as sr\n",
    "r = sr.Recognizer()\n",
    "with sr.AudioFile(r\"C:\\Users\\goelm\\Documents\\Sound Recordings\\Recording2.flac\") as source:\n",
    "    # listen for the data (load audio to memory)\n",
    "    audio_data = r.record(source)\n",
    "    # recognize (convert from speech to text)\n",
    "    text = r.recognize_google(audio_data)\n",
    "    print(text)\n",
    "# text = \"This is an offensive umbrella\"\n",
    "profanity = False\n",
    "for word in text.split(' '):\n",
    "    if word.lower() in profanity_words or '*' in word:\n",
    "        print (word)\n",
    "        profanity = True\n",
    "        break\n",
    "\n",
    "if(profanity):\n",
    "    print('true')\n",
    "else:\n",
    "    print('false')"
   ],
   "metadata": {
    "collapsed": false,
    "pycharm": {
     "name": "#%%\n"
    }
   }
  },
  {
   "cell_type": "code",
   "execution_count": 50,
   "outputs": [],
   "source": [
    "file = r'C:\\Users\\goelm\\Desktop\\E-meeting\\src\\test.webm'"
   ],
   "metadata": {
    "collapsed": false,
    "pycharm": {
     "name": "#%%\n"
    }
   }
  },
  {
   "cell_type": "code",
   "execution_count": 63,
   "outputs": [],
   "source": [
    "from nsfw_detector import predict\n",
    "import cv2, os\n",
    "model = predict.load_model('nsfw.299x299.h5')\n",
    "\n",
    "vidcap = cv2.VideoCapture(file)\n",
    "success,image = vidcap.read()\n",
    "count = 0\n",
    "Profanity = False\n",
    "\n",
    "def check_neut(result, fileName):\n",
    "    if(result[fileName]['hentai']>0.3 or result[fileName]['porn']>0.4 or result[fileName]['sexy']>0.2):\n",
    "        return True\n",
    "    else:\n",
    "        return False\n",
    "fileNameJpeg = 'frame' + '.jpg'\n",
    "while success:\n",
    "    success,image = vidcap. read()\n",
    "    count = (count+1)%30\n",
    "    if(count != 0):\n",
    "        continue\n",
    "    cv2. imwrite(fileNameJpeg, image) # save frame as JPEG file.\n",
    "    if(check_neut(predict.classify(model, fileNameJpeg, 299), fileNameJpeg)):\n",
    "        print('True')\n",
    "        Profanity = True\n",
    "        break\n",
    "if profanity == False:\n",
    "    os.remove(fileNameJpeg)"
   ],
   "metadata": {
    "collapsed": false,
    "pycharm": {
     "name": "#%%\n"
    }
   }
  },
  {
   "cell_type": "code",
   "execution_count": 62,
   "outputs": [
    {
     "ename": "FileNotFoundError",
     "evalue": "[WinError 2] The system cannot find the file specified: 'frame.jpg'",
     "output_type": "error",
     "traceback": [
      "\u001B[1;31m---------------------------------------------------------------------------\u001B[0m",
      "\u001B[1;31mFileNotFoundError\u001B[0m                         Traceback (most recent call last)",
      "Input \u001B[1;32mIn [62]\u001B[0m, in \u001B[0;36m<cell line: 1>\u001B[1;34m()\u001B[0m\n\u001B[1;32m----> 1\u001B[0m \u001B[43mos\u001B[49m\u001B[38;5;241;43m.\u001B[39;49m\u001B[43mremove\u001B[49m\u001B[43m(\u001B[49m\u001B[43mfileNameJpeg\u001B[49m\u001B[43m)\u001B[49m\n",
      "\u001B[1;31mFileNotFoundError\u001B[0m: [WinError 2] The system cannot find the file specified: 'frame.jpg'"
     ]
    }
   ],
   "source": [
    "os.remove(fileNameJpeg)"
   ],
   "metadata": {
    "collapsed": false,
    "pycharm": {
     "name": "#%%\n"
    }
   }
  },
  {
   "cell_type": "code",
   "execution_count": 42,
   "outputs": [
    {
     "name": "stdout",
     "output_type": "stream",
     "text": [
      "setting up a breakpoint within us while that is being\n",
      "false\n"
     ]
    }
   ],
   "source": [
    "import speech_recognition as sr\n",
    "import moviepy.editor as mp\n",
    "\n",
    "clip = mp.VideoFileClip(file)\n",
    "\n",
    "fileName = r'converted.flac'\n",
    "\n",
    "clip.audio.write_audiofile(fileName, codec='flac')\n",
    "r = sr.Recognizer()\n",
    "with sr.AudioFile(fileName) as source:\n",
    "    # listen for the data (load audio to memory)\n",
    "    audio_data = r.record(source)\n",
    "    # recognize (convert from speech to text)\n",
    "    text = r.recognize_google(audio_data)\n",
    "    print(text)\n",
    "\n",
    "with open('offensive.txt') as file:\n",
    "    profanity_words = file.read()\n",
    "\n",
    "profanity_words = profanity_words.split('\\n')\n",
    "profanity = False\n",
    "for word in text.split(' '):\n",
    "    if word.lower() in profanity_words or '*' in word:\n",
    "        print (word)\n",
    "        profanity = True\n",
    "        break\n",
    "\n",
    "if(profanity):\n",
    "    print('true')\n",
    "else:\n",
    "    print('false')"
   ],
   "metadata": {
    "collapsed": false,
    "pycharm": {
     "name": "#%%\n"
    }
   }
  },
  {
   "cell_type": "code",
   "execution_count": 64,
   "outputs": [
    {
     "name": "stdout",
     "output_type": "stream",
     "text": [
      " * Serving Flask app 'main'\n",
      " * Debug mode: off\n"
     ]
    },
    {
     "name": "stderr",
     "output_type": "stream",
     "text": [
      "WARNING: This is a development server. Do not use it in a production deployment. Use a production WSGI server instead.\n",
      " * Running on http://127.0.0.1:5000\n",
      "Press CTRL+C to quit\n"
     ]
    }
   ],
   "source": [
    "from flask import Flask, request\n",
    "import json\n",
    "\n",
    "# Setup flask server\n",
    "app = Flask(\"main\")\n",
    "@app.route('/arraysum', methods = ['POST'])\n",
    "\n",
    "def sum_of_array():\n",
    "    data = request.get_json()\n",
    "    print(data)\n",
    "    return json.dumps({\"result\":data})\n",
    "\n",
    "app.run(port=5000)"
   ],
   "metadata": {
    "collapsed": false,
    "pycharm": {
     "name": "#%%\n"
    }
   }
  },
  {
   "cell_type": "code",
   "execution_count": 2,
   "outputs": [],
   "source": [
    "import cv2\n",
    "import numpy as np\n",
    "import os\n",
    "from flask import *\n",
    "import face_recognition\n",
    "from flask_cors import CORS\n",
    "import mysql.connector as conn"
   ],
   "metadata": {
    "collapsed": false,
    "pycharm": {
     "name": "#%%\n"
    }
   }
  },
  {
   "cell_type": "code",
   "execution_count": 3,
   "outputs": [],
   "source": [
    "known_path = os.path.join(os.getcwd(),\"Images\\\\Known_faces\\\\\")\n",
    "unknown_path = os.path.join(os.getcwd(), \"Images\\\\Unknown_faces\\\\\")"
   ],
   "metadata": {
    "collapsed": false,
    "pycharm": {
     "name": "#%%\n"
    }
   }
  },
  {
   "cell_type": "code",
   "execution_count": 4,
   "outputs": [],
   "source": [
    "con = conn.connect(host='remotemysql.com', database='JRXbhVhnVA',user='JRXbhVhnVA', password='y3RJRq7eE1', charset='utf8', port=3306)\n",
    "cursor = con.cursor()\n",
    "sql = 'create table register(' \\\n",
    "      'name VARCHAR' \\\n",
    "      ')'\n",
    "cursor.execute(sql)\n",
    "result = cursor.fetchall()"
   ],
   "metadata": {
    "collapsed": false,
    "pycharm": {
     "name": "#%%\n"
    }
   }
  },
  {
   "cell_type": "code",
   "execution_count": 114,
   "outputs": [],
   "source": [
    "def get_data():\n",
    "    global db\n",
    "    con = conn.connect(host='remotemysql.com', database='JRXbhVhnVA',user='JRXbhVhnVA', password='y3RJRq7eE1', charset='utf8', port=3306)\n",
    "    cursor = con.cursor()\n",
    "    sql = 'select * from register'\n",
    "    cursor.execute(sql)\n",
    "    result = cursor.fetchall()\n",
    "    for i in result:\n",
    "        l = []\n",
    "        l.append(i[0])\n",
    "        string = i[1][1:-2]\n",
    "        nums = []\n",
    "        for x in string.split():\n",
    "            nums.append(float(x.strip()))\n",
    "        l.append(nums)\n",
    "        db.append(l)\n",
    "    cursor.close()\n",
    "    con.close()"
   ],
   "metadata": {
    "collapsed": false,
    "pycharm": {
     "name": "#%%\n"
    }
   }
  },
  {
   "cell_type": "code",
   "execution_count": 12,
   "outputs": [],
   "source": [
    "# con = conn.connect(host='remotemysql.com', database='JRXbhVhnVA',user='JRXbhVhnVA', password='y3RJRq7eE1', charset='utf8', port=3306)\n",
    "# cursor = con.cursor()\n",
    "# sql = 'insert into register values(%s,%s)'\n",
    "name = \"Gourav Singal\"\n",
    "\n",
    "video_capture = cv2.VideoCapture(0)\n",
    "ret, frame = video_capture.read()\n",
    "small_frame = cv2.resize(frame, (0, 0), fx=0.25, fy=0.25)\n",
    "rgb_small_frame = small_frame[:, :, ::-1]\n",
    "face_locations =face_recognition.face_locations(rgb_small_frame)\n",
    "face_encodings =face_recognition.face_encodings(rgb_small_frame, face_locations)\n",
    "dir = os.path.join(known_path,name)\n",
    "if(not os.path.isdir(dir)):\n",
    "    os.mkdir(dir)\n",
    "os.chdir(dir)\n",
    "rand_no = np.random.random_sample()\n",
    "cv2.imwrite(str(rand_no)+\".jpg\", frame)\n",
    "video_capture.release()\n",
    "cv2.destroyAllWindows()\n",
    "encoding = \"\"\n",
    "for i in face_encodings:\n",
    "    encoding += str(i)+\",\"\n",
    "li = [name, encoding]\n",
    "value = tuple(li)\n",
    "values.append(value)"
   ],
   "metadata": {
    "collapsed": false,
    "pycharm": {
     "name": "#%%\n"
    }
   }
  },
  {
   "cell_type": "code",
   "execution_count": 23,
   "outputs": [],
   "source": [
    "value[1]\n",
    "nums = []\n",
    "for x in value[1][1:-2].split():\n",
    "        nums.append(float(x.strip()))"
   ],
   "metadata": {
    "collapsed": false,
    "pycharm": {
     "name": "#%%\n"
    }
   }
  },
  {
   "cell_type": "code",
   "execution_count": 27,
   "outputs": [],
   "source": [
    "values = [['Fuii',nums]]"
   ],
   "metadata": {
    "collapsed": false,
    "pycharm": {
     "name": "#%%\n"
    }
   }
  },
  {
   "cell_type": "code",
   "execution_count": 28,
   "outputs": [],
   "source": [
    "known_face_encodings = [i[1] for i in values]\n",
    "known_face_names = [i[0] for i in values]"
   ],
   "metadata": {
    "collapsed": false,
    "pycharm": {
     "name": "#%%\n"
    }
   }
  },
  {
   "cell_type": "code",
   "execution_count": 29,
   "outputs": [
    {
     "data": {
      "text/plain": "[[-0.10062686,\n  0.07075551,\n  0.05723731,\n  -0.06363881,\n  -0.03207716,\n  -0.09792081,\n  -0.00350413,\n  -0.15183321,\n  0.18527944,\n  -0.07895807,\n  0.19062021,\n  -0.04905775,\n  -0.22270602,\n  -0.15030584,\n  -0.02962606,\n  0.11595139,\n  -0.09944565,\n  -0.15645185,\n  -0.09113185,\n  -0.08665306,\n  0.02523571,\n  -0.01031398,\n  0.09280003,\n  0.0462197,\n  -0.16254625,\n  -0.35728547,\n  -0.1495588,\n  -0.11701702,\n  -0.03444755,\n  -0.06688832,\n  0.0134213,\n  -0.00305095,\n  -0.15973002,\n  -0.0747086,\n  -0.01961502,\n  0.08851315,\n  -0.0313539,\n  -0.04793353,\n  0.18699011,\n  0.01200567,\n  -0.17061117,\n  -0.03884291,\n  0.04811739,\n  0.22865909,\n  0.14020878,\n  0.0809722,\n  0.06777464,\n  -0.06966124,\n  0.09197018,\n  -0.23459885,\n  0.17611136,\n  0.07501563,\n  0.14399678,\n  -0.00202627,\n  0.15467145,\n  -0.15211539,\n  0.0164181,\n  0.16899195,\n  -0.22913073,\n  0.07853143,\n  0.05258298,\n  0.00369484,\n  -0.06787265,\n  0.00882888,\n  0.21474127,\n  0.19924629,\n  -0.12724987,\n  -0.03916057,\n  0.15845832,\n  -0.15963943,\n  0.00668304,\n  0.06481908,\n  -0.08203821,\n  -0.21994513,\n  -0.29864845,\n  0.0710155,\n  0.50202245,\n  0.15557069,\n  -0.19045532,\n  -0.06017133,\n  -0.04411547,\n  0.0196969,\n  0.12274381,\n  0.03611892,\n  -0.16985865,\n  0.02640221,\n  -0.14858958,\n  0.02966406,\n  0.1185741,\n  0.0287311,\n  -0.11537886,\n  0.1794318,\n  0.003074,\n  0.08354069,\n  0.03471403,\n  0.0246402,\n  -0.09845409,\n  0.02035796,\n  -0.10885013,\n  0.00947137,\n  0.09107935,\n  -0.02213777,\n  -0.03359988,\n  0.03917311,\n  -0.08952576,\n  0.12097821,\n  0.02507775,\n  -0.0815931,\n  -0.07477002,\n  0.02498188,\n  -0.1161802,\n  -0.03744891,\n  0.12473494,\n  -0.24433097,\n  0.12760523,\n  0.14546247,\n  -0.0428585,\n  0.20433755,\n  0.0705772,\n  0.06071433,\n  0.027937,\n  -0.05677683,\n  -0.11773597,\n  -0.04286194,\n  0.08335229,\n  -0.03531237,\n  0.16528815,\n  0.04030549]]"
     },
     "execution_count": 29,
     "metadata": {},
     "output_type": "execute_result"
    }
   ],
   "source": [
    "known_face_encodings"
   ],
   "metadata": {
    "collapsed": false,
    "pycharm": {
     "name": "#%%\n"
    }
   }
  },
  {
   "cell_type": "code",
   "execution_count": 40,
   "outputs": [
    {
     "name": "stdout",
     "output_type": "stream",
     "text": [
      "Fuii\n"
     ]
    }
   ],
   "source": [
    "face_locations = []\n",
    "face_encodings = []\n",
    "face_names = []\n",
    "video_capture = cv2.VideoCapture(0)\n",
    "ret, frame = video_capture.read()\n",
    "small_frame = cv2.resize(frame, (0, 0), fx=0.25, fy=0.25)\n",
    "rgb_small_frame = small_frame[:, :, ::-1]\n",
    "face_locations = face_recognition.face_locations(rgb_small_frame)\n",
    "face_encodings = face_recognition.face_encodings(rgb_small_frame, face_locations)\n",
    "face_names = []\n",
    "if(face_encodings == []):\n",
    "    msg = \"You are unknown first register your self\"\n",
    "else:\n",
    "    for face_encoding in face_encodings:\n",
    "        matches = face_recognition.compare_faces(known_face_encodings, face_encoding)\n",
    "        name = \"Unknown\"\n",
    "        face_distances = face_recognition.face_distance(known_face_encodings, face_encoding)\n",
    "        best_match_index = np.argmin(face_distances)\n",
    "        if matches[best_match_index]:\n",
    "            name = known_face_names[best_match_index]\n",
    "        if(name == \"Unknown\"):\n",
    "            msg = \"You are unknown first register your self\"\n",
    "        else:\n",
    "            msg = name\n",
    "        face_names.append(name)\n",
    "    for (top, right, bottom, left), name in zip(face_locations, face_names):\n",
    "        top *= 4\n",
    "        right *= 4\n",
    "        bottom *= 4\n",
    "        left *= 4\n",
    "        cv2.rectangle(frame, (left, top), (right, bottom), (0, 0, 255), 2)\n",
    "        cv2.rectangle(frame, (left, bottom - 35), (right, bottom), (0, 0, 255), cv2.FILLED)\n",
    "        font = cv2.FONT_HERSHEY_DUPLEX\n",
    "        cv2.putText(frame, name, (left + 6, bottom - 6), font, 1.0, (255, 255, 255), 1)\n",
    "    os.chdir(unknown_path)\n",
    "    rand_no = np.random.random_sample()\n",
    "    cv2.imwrite(str(rand_no)+\".jpg\", frame)\n",
    "print(msg)"
   ],
   "metadata": {
    "collapsed": false,
    "pycharm": {
     "name": "#%%\n"
    }
   }
  },
  {
   "cell_type": "code",
   "execution_count": 36,
   "outputs": [
    {
     "data": {
      "text/plain": "[True]"
     },
     "execution_count": 36,
     "metadata": {},
     "output_type": "execute_result"
    }
   ],
   "source": [
    "matches"
   ],
   "metadata": {
    "collapsed": false,
    "pycharm": {
     "name": "#%%\n"
    }
   }
  },
  {
   "cell_type": "code",
   "execution_count": 103,
   "outputs": [
    {
     "data": {
      "text/plain": "[[array([-0.06564309,  0.08511814,  0.05012828, -0.03252379, -0.05639499,\n         -0.02283885,  0.00396463, -0.05907499,  0.14136067, -0.0618838 ,\n          0.24818803, -0.06703281, -0.24616441, -0.15429913, -0.03509693,\n          0.11301111, -0.10428279, -0.07919133, -0.09741221, -0.04612962,\n          0.01257361, -0.04392889,  0.05103261,  0.03643879, -0.14295325,\n         -0.3706319 , -0.11099374, -0.08173824, -0.00234712, -0.07280523,\n         -0.02596339,  0.04263321, -0.144768  , -0.06499052, -0.04643189,\n          0.08054201, -0.0382097 , -0.05887143,  0.1705073 , -0.01271567,\n         -0.12793884, -0.06177611,  0.0532855 ,  0.21303222,  0.15599979,\n          0.06588736,  0.04795384, -0.00706823,  0.02537259, -0.27263194,\n          0.09872242,  0.12223251,  0.11043342,  0.01827391,  0.13606969,\n         -0.13576232, -0.00083156,  0.12351038, -0.19204831,  0.02504981,\n         -0.0232171 ,  0.03359243, -0.0431676 , -0.02888033,  0.1998692 ,\n          0.17987163, -0.09970947, -0.05738255,  0.13870458, -0.20384839,\n          0.02733596,  0.04190433, -0.08365737, -0.23289189, -0.30142531,\n          0.09019567,  0.41113767,  0.21750461, -0.14500827, -0.0115121 ,\n         -0.03833868, -0.03892275,  0.1313509 , -0.01396077, -0.14349408,\n          0.01234463, -0.12182143,  0.04172872,  0.12726745, -0.00993898,\n         -0.06575011,  0.19073834, -0.00873186,  0.03292374,  0.0377893 ,\n         -0.03093713, -0.0284705 ,  0.04155967, -0.10443553,  0.07883959,\n          0.1003372 , -0.11749665, -0.00328402,  0.0233442 , -0.11660884,\n          0.01222195,  0.01951557, -0.06998018, -0.00669254,  0.02849699,\n         -0.2167003 , -0.0651089 ,  0.18803819, -0.25930282,  0.13944601,\n          0.17094374, -0.04743709,  0.15849623,  0.14145824,  0.09316733,\n          0.04198729, -0.06252328, -0.05994276, -0.04245298,  0.06482641,\n         -0.05764507,  0.09524112,  0.01347208])],\n [array([-0.06995506,  0.07974704,  0.07293467, -0.04194251, -0.05977931,\n         -0.00557972, -0.01124167, -0.06906097,  0.15407091, -0.10810496,\n          0.28201142, -0.07585258, -0.20885941, -0.13044316, -0.0513615 ,\n          0.11445647, -0.07290966, -0.10945268, -0.06492984, -0.01795659,\n          0.03279903, -0.03247095,  0.05121075,  0.05844593, -0.11755657,\n         -0.37351653, -0.08284522, -0.08877973,  0.00861766, -0.06764239,\n         -0.0502256 ,  0.05691617, -0.15315551, -0.02236078, -0.06321979,\n          0.08968377, -0.0780889 , -0.06648888,  0.21317631, -0.01141046,\n         -0.15349537, -0.06512547,  0.02348347,  0.20896848,  0.134867  ,\n          0.04260476,  0.03494269, -0.03060769,  0.02870068, -0.25910053,\n          0.08700024,  0.14480755,  0.09540781,  0.04112027,  0.09929454,\n         -0.14032219,  0.01803771,  0.10669981, -0.18287383,  0.00736583,\n         -0.04844824,  0.00353514, -0.03446304, -0.03953704,  0.22593208,\n          0.17220227, -0.08209822, -0.07573546,  0.13619019, -0.17287616,\n         -0.01290741,  0.06418264, -0.1117825 , -0.23898335, -0.2753188 ,\n          0.09936398,  0.39308423,  0.21235456, -0.13697939,  0.03147491,\n         -0.01735189, -0.06288155,  0.12358619,  0.02893133, -0.11970343,\n          0.0181329 , -0.11427643,  0.04215   ,  0.12638687, -0.03155701,\n         -0.06807335,  0.18224715, -0.01197285,  0.06641019,  0.022782  ,\n         -0.04027114, -0.01877348,  0.07579938, -0.1321288 ,  0.06249072,\n          0.07667935, -0.04794144, -0.0138669 ,  0.03380512, -0.13280967,\n          0.02930913,  0.01783769, -0.08162683, -0.00508787,  0.01322701,\n         -0.19525336, -0.06539206,  0.14885224, -0.24771588,  0.1500569 ,\n          0.15244116,  0.03806493,  0.17626433,  0.17217965,  0.05519325,\n          0.069245  , -0.06629069, -0.11940597, -0.01521429,  0.11063489,\n         -0.0306239 ,  0.08085996,  0.02484863])],\n [array([-0.09049826,  0.10265593,  0.07176936, -0.04896019, -0.07725326,\n         -0.0052435 , -0.00538005, -0.08774649,  0.17018081, -0.06769168,\n          0.25325099, -0.05592671, -0.23231137, -0.11948751, -0.05366563,\n          0.13001481, -0.09549304, -0.11139915, -0.09382355, -0.04675531,\n         -0.03264115, -0.05679448,  0.06511519,  0.03980985, -0.11503583,\n         -0.37273327, -0.08447352, -0.09726471, -0.00872602, -0.07146177,\n         -0.02730306,  0.02287208, -0.15405513, -0.08075361, -0.03583387,\n          0.14335179, -0.07255434, -0.06378588,  0.22310327, -0.03341462,\n         -0.10690255, -0.05164943,  0.0569811 ,  0.23564044,  0.11760166,\n          0.06781784,  0.05791115, -0.02096257,  0.05948475, -0.2984708 ,\n          0.14313948,  0.07806276,  0.11787769,  0.03675548,  0.13519081,\n         -0.17947754,  0.01763724,  0.14083922, -0.1657784 ,  0.05934384,\n         -0.02092351,  0.01262197, -0.0530481 , -0.0260815 ,  0.27938387,\n          0.18607138, -0.10659918, -0.03785196,  0.1216971 , -0.14077596,\n          0.00777849,  0.03193768, -0.07326696, -0.20808668, -0.31606302,\n          0.10899118,  0.44797969,  0.19196095, -0.18157884, -0.02625406,\n         -0.04647117, -0.0377767 ,  0.10639316,  0.00625815, -0.14902349,\n          0.0252212 , -0.14550747,  0.01944715,  0.14466403, -0.01172768,\n         -0.08468491,  0.18979259,  0.0057841 ,  0.07875169,  0.02394459,\n         -0.01831463, -0.04533215,  0.02789331, -0.14356656,  0.04222256,\n          0.1244201 , -0.07280243, -0.02028857,  0.02379659, -0.16512996,\n          0.02330085,  0.01847577, -0.07111082,  0.00211939,  0.02699713,\n         -0.2085375 , -0.06245434,  0.20666608, -0.28393364,  0.14991897,\n          0.181398  , -0.01511562,  0.1923787 ,  0.17235558,  0.04902173,\n          0.0738814 , -0.03818174, -0.08017076, -0.040703  ,  0.0813237 ,\n         -0.02615683,  0.10013284,  0.0763376 ])],\n [array([-0.12484689,  0.09766195,  0.06391779, -0.03420261, -0.00488444,\n         -0.11811067,  0.011381  , -0.14888307,  0.19615631, -0.03238241,\n          0.22261959, -0.01701767, -0.18230969, -0.17753826, -0.00345667,\n          0.08675314, -0.0955106 , -0.14475304, -0.08950315, -0.07308552,\n          0.03904575, -0.03521034,  0.11030844,  0.06540399, -0.19936006,\n         -0.36848739, -0.12097797, -0.08844674,  0.01541734, -0.05964689,\n          0.02970272,  0.02850587, -0.19564414, -0.09446028, -0.01904443,\n          0.09240479, -0.01487107, -0.00639044,  0.18769386, -0.00304554,\n         -0.15920778, -0.04259512,  0.02860863,  0.25775412,  0.16848288,\n          0.07181232,  0.08462941, -0.0594574 ,  0.0698857 , -0.23489358,\n          0.18047151,  0.08616509,  0.13761449, -0.01261463,  0.15633282,\n         -0.12003721, -0.00939999,  0.14274469, -0.21957959,  0.09512507,\n          0.05896755,  0.0133194 , -0.06268733, -0.01180146,  0.18424453,\n          0.18344776, -0.10913625, -0.04837316,  0.14871784, -0.17425902,\n          0.00982187,  0.06999556, -0.05963426, -0.21989559, -0.32798558,\n          0.06120584,  0.47525421,  0.19145195, -0.20754832, -0.03772937,\n         -0.06299422,  0.01638021,  0.11813951,  0.00784995, -0.16532527,\n          0.04537088, -0.15478338,  0.04372425,  0.13184413,  0.06662016,\n         -0.1157026 ,  0.20404069,  0.01732446,  0.06224747,  0.03426575,\n          0.00724368, -0.09450239,  0.02134545, -0.13186243, -0.00296533,\n          0.0682129 ,  0.00894815,  0.00604488,  0.05169262, -0.09800904,\n          0.14276314,  0.03703563, -0.03761662, -0.04562853,  0.06714532,\n         -0.1339778 , -0.07178267,  0.10278321, -0.23018295,  0.13301176,\n          0.13425317, -0.02425886,  0.17904195,  0.07344771,  0.06029242,\n          0.03892703, -0.02532117, -0.06623472, -0.02561967,  0.05430421,\n         -0.06384565,  0.17021161,  0.05069397])]]"
     },
     "execution_count": 103,
     "metadata": {},
     "output_type": "execute_result"
    }
   ],
   "source": [
    "known_face_encodings"
   ],
   "metadata": {
    "collapsed": false,
    "pycharm": {
     "name": "#%%\n"
    }
   }
  },
  {
   "cell_type": "code",
   "execution_count": 104,
   "outputs": [
    {
     "data": {
      "text/plain": "array([-0.04873716,  0.02283542,  0.05519449, -0.05086641, -0.06612553,\n       -0.02104218, -0.02451716, -0.04386488,  0.14660986, -0.09433487,\n        0.24679895, -0.03093319, -0.1669766 , -0.07517396, -0.01694414,\n        0.10668895, -0.08592059, -0.06098161, -0.0858293 , -0.00335532,\n        0.00699036,  0.02120882,  0.046219  ,  0.06805642, -0.03512587,\n       -0.33076981, -0.09920488, -0.12477519,  0.1033781 , -0.08391432,\n       -0.06356724,  0.02256944, -0.12005119, -0.00551225, -0.05575506,\n        0.03710455, -0.08143576, -0.14033237,  0.22607858,  0.00417225,\n       -0.16175133, -0.08645399,  0.02107296,  0.191616  ,  0.13965473,\n       -0.01012835,  0.03856364, -0.05890983,  0.10114545, -0.23675248,\n        0.09690337,  0.10709997,  0.15437977,  0.05645058,  0.12239393,\n       -0.13692588,  0.05698444,  0.08706625, -0.19288625,  0.05060721,\n       -0.03101973,  0.0174614 , -0.02925107, -0.06472845,  0.1791835 ,\n        0.13748184, -0.06806263, -0.10294155,  0.07689629, -0.18609674,\n       -0.02611455,  0.09563901, -0.11126441, -0.22401872, -0.27015996,\n        0.03773978,  0.30504775,  0.20926481, -0.16331849,  0.03086026,\n       -0.02386475, -0.09853569,  0.12913391,  0.05220154, -0.08661523,\n       -0.01040376, -0.12004744,  0.01025925,  0.15038791, -0.08442032,\n       -0.02328272,  0.16940211, -0.01480698,  0.0375265 , -0.02380721,\n        0.00287952, -0.04674565,  0.04993479, -0.07737561,  0.04322207,\n        0.08841562, -0.04453023, -0.0268103 ,  0.01188278, -0.16869377,\n        0.06300642,  0.02912002, -0.0768899 ,  0.03557426, -0.05242439,\n       -0.18366471, -0.04940483,  0.16762455, -0.20299834,  0.15680215,\n        0.13102981,  0.02829952,  0.15446018,  0.10560017,  0.07408202,\n       -0.00231887, -0.08231111, -0.12359355, -0.01137098,  0.09221631,\n       -0.00808525,  0.01960175,  0.00666535])"
     },
     "execution_count": 104,
     "metadata": {},
     "output_type": "execute_result"
    }
   ],
   "source": [
    "face_encoding"
   ],
   "metadata": {
    "collapsed": false,
    "pycharm": {
     "name": "#%%\n"
    }
   }
  },
  {
   "cell_type": "code",
   "execution_count": 110,
   "outputs": [
    {
     "data": {
      "text/plain": "[array([ True,  True,  True,  True,  True,  True,  True,  True,  True,\n         True,  True,  True,  True,  True,  True,  True,  True,  True,\n         True,  True,  True,  True,  True,  True,  True,  True,  True,\n         True,  True,  True,  True,  True,  True,  True,  True,  True,\n         True,  True,  True,  True,  True,  True,  True,  True,  True,\n         True,  True,  True,  True,  True,  True,  True,  True,  True,\n         True,  True,  True,  True,  True,  True,  True,  True,  True,\n         True,  True,  True,  True,  True,  True,  True,  True,  True,\n         True,  True,  True,  True,  True,  True,  True,  True,  True,\n         True,  True,  True,  True,  True,  True,  True,  True,  True,\n         True,  True,  True,  True,  True,  True,  True,  True,  True,\n         True,  True,  True,  True,  True,  True,  True,  True,  True,\n         True,  True,  True,  True,  True,  True,  True,  True,  True,\n         True,  True,  True,  True,  True,  True,  True,  True,  True,\n         True,  True]),\n array([ True,  True,  True,  True,  True,  True,  True,  True,  True,\n         True,  True,  True,  True,  True,  True,  True,  True,  True,\n         True,  True,  True,  True,  True,  True,  True,  True,  True,\n         True,  True,  True,  True,  True,  True,  True,  True,  True,\n         True,  True,  True,  True,  True,  True,  True,  True,  True,\n         True,  True,  True,  True,  True,  True,  True,  True,  True,\n         True,  True,  True,  True,  True,  True,  True,  True,  True,\n         True,  True,  True,  True,  True,  True,  True,  True,  True,\n         True,  True,  True,  True,  True,  True,  True,  True,  True,\n         True,  True,  True,  True,  True,  True,  True,  True,  True,\n         True,  True,  True,  True,  True,  True,  True,  True,  True,\n         True,  True,  True,  True,  True,  True,  True,  True,  True,\n         True,  True,  True,  True,  True,  True,  True,  True,  True,\n         True,  True,  True,  True,  True,  True,  True,  True,  True,\n         True,  True]),\n array([ True,  True,  True,  True,  True,  True,  True,  True,  True,\n         True,  True,  True,  True,  True,  True,  True,  True,  True,\n         True,  True,  True,  True,  True,  True,  True,  True,  True,\n         True,  True,  True,  True,  True,  True,  True,  True,  True,\n         True,  True,  True,  True,  True,  True,  True,  True,  True,\n         True,  True,  True,  True,  True,  True,  True,  True,  True,\n         True,  True,  True,  True,  True,  True,  True,  True,  True,\n         True,  True,  True,  True,  True,  True,  True,  True,  True,\n         True,  True,  True,  True,  True,  True,  True,  True,  True,\n         True,  True,  True,  True,  True,  True,  True,  True,  True,\n         True,  True,  True,  True,  True,  True,  True,  True,  True,\n         True,  True,  True,  True,  True,  True,  True,  True,  True,\n         True,  True,  True,  True,  True,  True,  True,  True,  True,\n         True,  True,  True,  True,  True,  True,  True,  True,  True,\n         True,  True]),\n array([ True,  True,  True,  True,  True,  True,  True,  True,  True,\n         True,  True,  True,  True,  True,  True,  True,  True,  True,\n         True,  True,  True,  True,  True,  True,  True,  True,  True,\n         True,  True,  True,  True,  True,  True,  True,  True,  True,\n         True,  True,  True,  True,  True,  True,  True,  True,  True,\n         True,  True,  True,  True,  True,  True,  True,  True,  True,\n         True,  True,  True,  True,  True,  True,  True,  True,  True,\n         True,  True,  True,  True,  True,  True,  True,  True,  True,\n         True,  True,  True,  True,  True,  True,  True,  True,  True,\n         True,  True,  True,  True,  True,  True,  True,  True,  True,\n         True,  True,  True,  True,  True,  True,  True,  True,  True,\n         True,  True,  True,  True,  True,  True,  True,  True,  True,\n         True,  True,  True,  True,  True,  True,  True,  True,  True,\n         True,  True,  True,  True,  True,  True,  True,  True,  True,\n         True,  True])]"
     },
     "execution_count": 110,
     "metadata": {},
     "output_type": "execute_result"
    }
   ],
   "source": [
    "face_recognition.compare_faces(known_face_encodings, face_encodings[0])"
   ],
   "metadata": {
    "collapsed": false,
    "pycharm": {
     "name": "#%%\n"
    }
   }
  },
  {
   "cell_type": "code",
   "execution_count": 111,
   "outputs": [
    {
     "data": {
      "text/plain": "[array([-0.10939308,  0.06598052,  0.04788246, -0.06522433, -0.0301073 ,\n        -0.11947381,  0.00349358, -0.13867711,  0.18101966, -0.06908873,\n         0.20361695, -0.04316095, -0.17051631, -0.16929063, -0.0222984 ,\n         0.09822451, -0.12036528, -0.14100805, -0.04030699, -0.07580011,\n         0.03826861,  0.00990112,  0.07174081,  0.04588082, -0.13810018,\n        -0.34299445, -0.10899068, -0.16950431,  0.06845364, -0.05672624,\n         0.03984503, -0.00745622, -0.13964333, -0.04963566, -0.01640223,\n         0.07420573, -0.01063708, -0.03998521,  0.19016679, -0.00881748,\n        -0.17580007, -0.11569944,  0.00829523,  0.23736051,  0.14575946,\n         0.04435685,  0.08963741, -0.08991862,  0.09176679, -0.21976051,\n         0.13781044,  0.08066648,  0.08888633, -0.00644598,  0.11325493,\n        -0.14322206,  0.00584367,  0.12625122, -0.24933507,  0.08480468,\n         0.04677951,  0.03245051, -0.07087725,  0.0299332 ,  0.24353115,\n         0.14667939, -0.1482946 , -0.0419514 ,  0.16814761, -0.19874115,\n        -0.01186852,  0.03660532, -0.06393158, -0.19323006, -0.28553164,\n         0.03539015,  0.47288439,  0.130698  , -0.17680843,  0.00220543,\n        -0.08645386, -0.02758778,  0.11082353,  0.07211243, -0.15076566,\n         0.06692927, -0.1332943 ,  0.01612897,  0.1268457 , -0.00539401,\n        -0.05533373,  0.18384543, -0.02767481,  0.06552273,  0.0259422 ,\n         0.04655816, -0.11801871,  0.02017688, -0.07916433, -0.04169071,\n         0.12462735, -0.03122557,  0.00628394,  0.07826449, -0.13633841,\n         0.17367823,  0.02976741, -0.05638886, -0.02395311, -0.00553823,\n        -0.07372057, -0.05876788,  0.14886332, -0.16394928,  0.15183291,\n         0.12967552,  0.01198513,  0.2155765 ,  0.08372662,  0.04522327,\n         0.02700326, -0.06265891, -0.11466782, -0.01557957,  0.02364476,\n        -0.04965058,  0.12018177,  0.03192526])]"
     },
     "execution_count": 111,
     "metadata": {},
     "output_type": "execute_result"
    }
   ],
   "source": [
    "face_encodings"
   ],
   "metadata": {
    "collapsed": false,
    "pycharm": {
     "name": "#%%\n"
    }
   }
  },
  {
   "cell_type": "code",
   "execution_count": 1,
   "outputs": [],
   "source": [
    "import cv2, numpy\n",
    "watch_cascade=cv2.CascadeClassifier(r'C:\\Users\\goelm\\Desktop\\E-meeting\\src\\pythonFiles\\guns.xml')\n",
    "\n",
    "#cap=cv2.VideoCapture(0)\n",
    "vidcap=cv2.VideoCapture(r'C:\\Users\\goelm\\Desktop\\E-meeting\\src\\pythonFiles\\videoplayback.mp4')\n",
    "\n",
    "success, image = vidcap.read()\n",
    "count =0\n",
    "breaking = False\n",
    "\n",
    "while success:\n",
    "    success, img = vidcap.read()\n",
    "    count = (count + 1) % 30\n",
    "    # if (count != 0):\n",
    "    #     continue\n",
    "    gray = cv2.cvtColor(img,cv2.COLOR_BGR2GRAY)\n",
    "    watch = watch_cascade.detectMultiScale(gray,1.3,3)\n",
    "    for(x,y,w,h) in watch:\n",
    "        cv2.rectangle(img,(x,y),(x+w,y+h),(255,0,0),2)\n",
    "        roi_gray=gray[y:y+h,x:x+w]\n",
    "        roi_color=img[y:y+h,x:x+w]\n",
    "        cv2.imwrite('def.jpeg', img) # save frame as JPEG file.\n",
    "        breaking = True\n",
    "        break\n",
    "    if(breaking):\n",
    "        break\n",
    "    cv2.imshow('img',img)\n",
    "    k = cv2.waitKey(1) & 0xff\n",
    "    if k == 27:\n",
    "        break"
   ],
   "metadata": {
    "collapsed": false,
    "pycharm": {
     "name": "#%%\n"
    }
   }
  },
  {
   "cell_type": "code",
   "execution_count": null,
   "outputs": [],
   "source": [],
   "metadata": {
    "collapsed": false,
    "pycharm": {
     "name": "#%%\n"
    }
   }
  }
 ],
 "metadata": {
  "kernelspec": {
   "display_name": "Python 3",
   "language": "python",
   "name": "python3"
  },
  "language_info": {
   "codemirror_mode": {
    "name": "ipython",
    "version": 2
   },
   "file_extension": ".py",
   "mimetype": "text/x-python",
   "name": "python",
   "nbconvert_exporter": "python",
   "pygments_lexer": "ipython2",
   "version": "2.7.6"
  }
 },
 "nbformat": 4,
 "nbformat_minor": 0
}